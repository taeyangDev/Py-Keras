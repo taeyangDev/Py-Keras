{
  "nbformat": 4,
  "nbformat_minor": 0,
  "metadata": {
    "colab": {
      "name": "Untitled0.ipynb",
      "version": "0.3.2",
      "provenance": [],
      "collapsed_sections": []
    },
    "kernelspec": {
      "name": "python3",
      "display_name": "Python 3"
    }
  },
  "cells": [
    {
      "metadata": {
        "id": "5OUQOEQX1XUI",
        "colab_type": "code",
        "colab": {
          "base_uri": "https://localhost:8080/",
          "height": 53
        },
        "outputId": "07005e85-d1a1-47a5-b93d-6cf889409c28"
      },
      "cell_type": "code",
      "source": [
        "import keras\n",
        "import numpy\n",
        "x = numpy.array([0,1,2,3,4])\n",
        "y = x * 2 + 1\n",
        "model = keras.models.Sequential()\n",
        "model.add(keras.layers.Dense(1, input_shape=(1,)))\n",
        "model.compile('SGD', 'mse')\n",
        "model.fit(x[0:2], y[0:2], epochs=1000, verbose=0)\n",
        "print('Targets:', y[2:])\n",
        "print('Predictions:', model.predict(x[2:]).flatten())"
      ],
      "execution_count": 25,
      "outputs": [
        {
          "output_type": "stream",
          "text": [
            "Targets: [5 7 9]\n",
            "Predictions: [4.952453 6.918048 8.883642]\n"
          ],
          "name": "stdout"
        }
      ]
    }
  ]
}